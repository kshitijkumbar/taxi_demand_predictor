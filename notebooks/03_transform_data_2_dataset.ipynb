{
 "cells": [
  {
   "cell_type": "code",
   "execution_count": 18,
   "metadata": {},
   "outputs": [],
   "source": [
    "import pandas as pd\n",
    "import numpy as np\n",
    "from tqdm import tqdm\n",
    "\n",
    "ts_data = pd.read_parquet('../data/processed/validated_rides_ts_2022_01.parquet')"
   ]
  },
  {
   "cell_type": "code",
   "execution_count": 19,
   "metadata": {},
   "outputs": [],
   "source": [
    "def getCutoffIndices(\n",
    "    data: pd.DataFrame,\n",
    "    n_features: int,\n",
    "    step_size: int\n",
    ") -> list:\n",
    "    stop_pos = len(data) - 1\n",
    "    \n",
    "    subseq_first_idx = 0\n",
    "    subseq_mid_idx = n_features\n",
    "    subseq_last_idx = n_features + 1\n",
    "    indices = []\n",
    "    \n",
    "    while subseq_last_idx <= stop_pos:\n",
    "        indices.append((subseq_first_idx, subseq_mid_idx, subseq_last_idx))\n",
    "        \n",
    "        subseq_first_idx    += step_size\n",
    "        subseq_mid_idx      += step_size\n",
    "        subseq_last_idx     += step_size\n",
    "    \n",
    "    return indices"
   ]
  },
  {
   "cell_type": "code",
   "execution_count": 24,
   "metadata": {},
   "outputs": [],
   "source": [
    "def processData2FeatTgt(\n",
    "    ts_data: pd.DataFrame,\n",
    "    input_feat_len: int,\n",
    "    step_size: int\n",
    "    ) -> pd.DataFrame:\n",
    "    n_features = input_feat_len\n",
    "    \n",
    "    \n",
    "    loc_ids = ts_data['pickup_location_id'].unique()\n",
    "    feat_df = pd.DataFrame()\n",
    "    tgt_df = pd.DataFrame()\n",
    "    for loc_id in tqdm(loc_ids):     \n",
    "        \n",
    "        ts_data_one_loc = ts_data.loc[ts_data.pickup_location_id == loc_id, :].reset_index(drop=True)\n",
    "\n",
    "        indices = getCutoffIndices(\n",
    "            ts_data_one_loc,\n",
    "            n_features,\n",
    "            step_size\n",
    "        )\n",
    "\n",
    "        n_examples = len(indices)\n",
    "\n",
    "        x = np.ndarray(shape=(n_examples, n_features), dtype=np.float32)\n",
    "        y = np.ndarray(shape=(n_examples), dtype=np.float32)\n",
    "        pickup_hours = []\n",
    "\n",
    "        for i,idx in enumerate(indices):\n",
    "            x[i,:] = ts_data_one_loc.iloc[idx[0]:idx[1]]['rides'].values\n",
    "            y[i] = ts_data_one_loc.iloc[idx[1]:idx[2]]['rides'].values\n",
    "            pickup_hours.append(ts_data_one_loc.iloc[idx[1]]['pickup_hour'])\n",
    "        feat_1_loc = pd.DataFrame(\n",
    "            x,\n",
    "            columns=[f\"rides_prev_{i+1}_hr\" for i in reversed(range(n_features))]\n",
    "        )\n",
    "        feat_1_loc['pickup_hr'] = pickup_hours\n",
    "        feat_1_loc['location_id'] = loc_id\n",
    "        \n",
    "        tgt_1_loc = pd.DataFrame(y, columns=[f\"tgt_rides_nxt_hr\"])\n",
    "        \n",
    "        feat_df = pd.concat([feat_df, feat_1_loc])\n",
    "        tgt_df = pd.concat([tgt_df, tgt_1_loc])\n",
    "        feat_df.reset_index(drop=True, inplace=True)\n",
    "        tgt_df.reset_index(drop=True, inplace=True)\n",
    "        \n",
    "    return feat_df,tgt_df\n",
    "        "
   ]
  },
  {
   "cell_type": "code",
   "execution_count": 25,
   "metadata": {},
   "outputs": [
    {
     "name": "stderr",
     "output_type": "stream",
     "text": [
      "100%|██████████| 257/257 [00:01<00:00, 133.64it/s]"
     ]
    },
    {
     "name": "stdout",
     "output_type": "stream",
     "text": [
      "feats size feats.shape=(6168, 170)\n",
      "tgts size tgts.shape=(6168, 1)\n"
     ]
    },
    {
     "name": "stderr",
     "output_type": "stream",
     "text": [
      "\n"
     ]
    }
   ],
   "source": [
    "feats, tgts = processData2FeatTgt(ts_data, input_feat_len= 24*7*1, step_size=24)\n",
    "\n",
    "print(f\"feats size {feats.shape=}\")\n",
    "print(f\"tgts size {tgts.shape=}\")\n"
   ]
  }
 ],
 "metadata": {
  "kernelspec": {
   "display_name": ".venv",
   "language": "python",
   "name": "python3"
  },
  "language_info": {
   "codemirror_mode": {
    "name": "ipython",
    "version": 3
   },
   "file_extension": ".py",
   "mimetype": "text/x-python",
   "name": "python",
   "nbconvert_exporter": "python",
   "pygments_lexer": "ipython3",
   "version": "3.10.6"
  },
  "orig_nbformat": 4
 },
 "nbformat": 4,
 "nbformat_minor": 2
}

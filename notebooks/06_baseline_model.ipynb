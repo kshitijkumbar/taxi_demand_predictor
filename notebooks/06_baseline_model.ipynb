{
 "cells": [
  {
   "cell_type": "code",
   "execution_count": 15,
   "metadata": {},
   "outputs": [],
   "source": [
    "import pandas as pd\n",
    "import numpy as np\n",
    "\n",
    "from datetime import datetime\n",
    "from sklearn.metrics import mean_absolute_error\n",
    "\n",
    "from src.paths import PROCESSED_DATA_DIR\n",
    "from src.data_split  import trainTestSplit\n",
    "df = pd.read_parquet(PROCESSED_DATA_DIR / \"tabular_data.parquet\")"
   ]
  },
  {
   "cell_type": "code",
   "execution_count": 16,
   "metadata": {},
   "outputs": [
    {
     "name": "stdout",
     "output_type": "stream",
     "text": [
      "X_train.shape=(48208, 674)\n",
      "y_train.shape=(48208,)\n",
      "X_test.shape=(40086, 674)\n",
      "y_test.shape=(40086,)\n"
     ]
    }
   ],
   "source": [
    "X_train, y_train, X_test, y_test = trainTestSplit(\n",
    "    df,\n",
    "    cutoff_date=datetime(2022,8,1,0,0,0),\n",
    "    tgt_col_name='tgt_rides_next_hr'\n",
    ")\n",
    "\n",
    "print(f\"{X_train.shape=}\")\n",
    "print(f\"{y_train.shape=}\")\n",
    "print(f\"{X_test.shape=}\")\n",
    "print(f\"{y_test.shape=}\")"
   ]
  },
  {
   "cell_type": "code",
   "execution_count": 17,
   "metadata": {},
   "outputs": [],
   "source": [
    "class BaselineModelPreviousHour:\n",
    "    \"\"\"\n",
    "    Simple prediction : duplicate acutal demand from prev hour\n",
    "    \"\"\"\n",
    "    \n",
    "    def fit(self, X_train: pd.DataFrame, y_train: pd.Series):\n",
    "        pass # No fit requried\n",
    "    \n",
    "    def predict(self, X_test: pd.DataFrame) -> np.array:\n",
    "        return X_test['rides_prev_1_hr']"
   ]
  },
  {
   "cell_type": "code",
   "execution_count": 19,
   "metadata": {},
   "outputs": [
    {
     "data": {
      "text/plain": [
       "0         0.0\n",
       "1         2.0\n",
       "2         3.0\n",
       "3         4.0\n",
       "4        15.0\n",
       "         ... \n",
       "40081     0.0\n",
       "40082     0.0\n",
       "40083     0.0\n",
       "40084     0.0\n",
       "40085     0.0\n",
       "Name: rides_prev_1_hr, Length: 40086, dtype: float32"
      ]
     },
     "execution_count": 19,
     "metadata": {},
     "output_type": "execute_result"
    }
   ],
   "source": [
    "model = BaselineModelPreviousHour()\n",
    "predictions = model.predict(X_test)\n",
    "test_mae = mean_absolute_error(y_test, predictions)\n",
    "print(f\"{test_mae=:.4f}\")"
   ]
  },
  {
   "cell_type": "code",
   "execution_count": 22,
   "metadata": {},
   "outputs": [],
   "source": [
    "class BaselineModelPreviousWeek:\n",
    "    \"\"\"\n",
    "    Simple prediction: Duplicate demand observed same day, last week \n",
    "    \"\"\"\n",
    "    def fit(self, X_train: pd.DataFrame, y_train: pd.Series):\n",
    "        pass # No fit requried\n",
    "    \n",
    "    def predict(self, X_test: pd.DataFrame) -> np.array:\n",
    "        return X_test[f'rides_prev_{7*24}_hr']"
   ]
  },
  {
   "cell_type": "code",
   "execution_count": 23,
   "metadata": {},
   "outputs": [
    {
     "name": "stdout",
     "output_type": "stream",
     "text": [
      "test_mae=3.8744\n"
     ]
    }
   ],
   "source": [
    "model = BaselineModelPreviousWeek()\n",
    "predictions = model.predict(X_test)\n",
    "test_mae = mean_absolute_error(y_test, predictions)\n",
    "print(f\"{test_mae=:.4f}\")"
   ]
  },
  {
   "cell_type": "code",
   "execution_count": 35,
   "metadata": {},
   "outputs": [],
   "source": [
    "class BaselineModelPreviousMonth:\n",
    "    \"\"\"\n",
    "    Simple prediction: Duplicate demand observed same day, averagedf over month \n",
    "    \"\"\"\n",
    "    def fit(self, X_train: pd.DataFrame, y_train: pd.Series):\n",
    "        pass # No fit requried\n",
    "    \n",
    "    def predict(self, X_test: pd.DataFrame) -> np.array:\n",
    "        return (X_test[f'rides_prev_{7*24}_hr'] + \\\n",
    "                X_test[f'rides_prev_{14*24}_hr'] + \\\n",
    "                X_test[f'rides_prev_{21*24}_hr'] + \\\n",
    "                X_test[f'rides_prev_{28*24}_hr']) * 0.25"
   ]
  },
  {
   "cell_type": "code",
   "execution_count": 36,
   "metadata": {},
   "outputs": [
    {
     "name": "stdout",
     "output_type": "stream",
     "text": [
      "test_mae=3.3684\n"
     ]
    }
   ],
   "source": [
    "model = BaselineModelPreviousMonth()\n",
    "predictions = model.predict(X_test)\n",
    "test_mae = mean_absolute_error(y_test, predictions)\n",
    "print(f\"{test_mae=:.4f}\")"
   ]
  },
  {
   "cell_type": "code",
   "execution_count": null,
   "metadata": {},
   "outputs": [],
   "source": []
  }
 ],
 "metadata": {
  "kernelspec": {
   "display_name": ".venv",
   "language": "python",
   "name": "python3"
  },
  "language_info": {
   "codemirror_mode": {
    "name": "ipython",
    "version": 3
   },
   "file_extension": ".py",
   "mimetype": "text/x-python",
   "name": "python",
   "nbconvert_exporter": "python",
   "pygments_lexer": "ipython3",
   "version": "3.10.6"
  },
  "orig_nbformat": 4
 },
 "nbformat": 4,
 "nbformat_minor": 2
}

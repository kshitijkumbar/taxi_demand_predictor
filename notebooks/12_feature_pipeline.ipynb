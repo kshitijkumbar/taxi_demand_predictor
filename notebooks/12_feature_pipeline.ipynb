{
 "cells": [
  {
   "cell_type": "code",
   "execution_count": 10,
   "metadata": {},
   "outputs": [],
   "source": [
    "from datetime import datetime, timedelta\n",
    "\n",
    "import src.config as config\n",
    "import pandas as pd\n"
   ]
  },
  {
   "cell_type": "code",
   "execution_count": 11,
   "metadata": {},
   "outputs": [
    {
     "name": "stdout",
     "output_type": "stream",
     "text": [
      "current_date=Timestamp('2023-05-09 04:00:00')\n"
     ]
    }
   ],
   "source": [
    "current_date = pd.to_datetime(datetime.utcnow()).floor('H')\n",
    "print(f\"{current_date=}\")\n",
    "\n",
    "# Now fetch raw data for the last 28 days for additional data pipeline redundancy\n",
    "fetch_data_to = current_date\n",
    "fetch_data_from = current_date - timedelta(days=28) "
   ]
  },
  {
   "cell_type": "code",
   "execution_count": 12,
   "metadata": {},
   "outputs": [],
   "source": [
    "from src.data import loadRawData\n",
    "\n",
    "def fetchBatchRawData(from_date: datetime,\n",
    "                      to_date: datetime) -> pd.DataFrame:\n",
    "    \"\"\"\n",
    "    Simulate production data by sampling historical data from a year ago\n",
    "    \"\"\"\n",
    "    \n",
    "    from_date_ = from_date - timedelta(days=7*52)\n",
    "    to_date_ = to_date - timedelta(days=7*52)\n",
    "    \n",
    "    # download 2 files from website\n",
    "    rides_from = loadRawData(year=from_date_.year, months=from_date_.month)\n",
    "    rides_from = rides_from[rides_from.pickup_datetime >= from_date_]\n",
    "    rides_to = loadRawData(year=to_date_.year, months=to_date_.month)\n",
    "    rides_to = rides_to[rides_to.pickup_datetime < to_date_]\n",
    "    \n",
    "    rides = pd.concat([rides_from, rides_to])\n",
    "    \n",
    "    # shift data to mimic recent data\n",
    "    rides['pickup_datetime'] += timedelta(days=7*52)\n",
    "    \n",
    "    rides.sort_values(by=['pickup_loc_id', 'pickup_datetime'], inplace=True)\n",
    "    \n",
    "    return rides\n",
    "    "
   ]
  },
  {
   "cell_type": "code",
   "execution_count": 13,
   "metadata": {},
   "outputs": [
    {
     "name": "stdout",
     "output_type": "stream",
     "text": [
      "File for 2022_04 found locally...\n",
      "File for 2022_05 found locally...\n"
     ]
    }
   ],
   "source": [
    "rides = fetchBatchRawData(from_date=fetch_data_from, \n",
    "                          to_date=fetch_data_to)"
   ]
  },
  {
   "cell_type": "code",
   "execution_count": 14,
   "metadata": {},
   "outputs": [
    {
     "name": "stderr",
     "output_type": "stream",
     "text": [
      "100%|██████████| 256/256 [00:00<00:00, 491.82it/s]\n"
     ]
    }
   ],
   "source": [
    "from src.data import processRawData\n",
    "\n",
    "ts_data = processRawData(rides)"
   ]
  },
  {
   "cell_type": "code",
   "execution_count": 15,
   "metadata": {},
   "outputs": [
    {
     "name": "stdout",
     "output_type": "stream",
     "text": [
      "Connection closed.\n",
      "Connected. Call `.close()` to terminate connection gracefully.\n",
      "\n",
      "Logged in to project, explore it here https://c.app.hopsworks.ai:443/p/42132\n",
      "Connected. Call `.close()` to terminate connection gracefully.\n"
     ]
    }
   ],
   "source": [
    "import hopsworks\n",
    "\n",
    "# Connect to project\n",
    "project = hopsworks.login(\n",
    "    project=config.HOPSWORKS_PROJECT_NAME,\n",
    "    api_key_value=config.HOPSWORKS_API_KEY\n",
    ")\n",
    "\n",
    "# Connect to feature store\n",
    "feature_store = project.get_feature_store()\n",
    "\n",
    "# Connect to the feature group\n",
    "feature_group = feature_store.get_or_create_feature_group(\n",
    "    name=config.FEATURE_GROUP_NAME,\n",
    "    version=config.FEATURE_GROUP_VERSION,\n",
    "    description=\"Time-series data at hourly frequency\",\n",
    "    primary_key= ['pickup_loc_id', 'pickup_hr'],\n",
    "    event_time='pickup_hr'\n",
    ")\n"
   ]
  },
  {
   "cell_type": "code",
   "execution_count": 16,
   "metadata": {},
   "outputs": [
    {
     "data": {
      "application/vnd.jupyter.widget-view+json": {
       "model_id": "003b75b394264f0ead603336fce6a72d",
       "version_major": 2,
       "version_minor": 0
      },
      "text/plain": [
       "Uploading Dataframe: 0.00% |          | Rows 0/172032 | Elapsed Time: 00:00 | Remaining Time: ?"
      ]
     },
     "metadata": {},
     "output_type": "display_data"
    },
    {
     "name": "stdout",
     "output_type": "stream",
     "text": [
      "Launching offline feature group backfill job...\n",
      "Backfill Job started successfully, you can follow the progress at \n",
      "https://c.app.hopsworks.ai/p/42132/jobs/named/ts_hourly_feat_group_1_offline_fg_backfill/executions\n"
     ]
    },
    {
     "data": {
      "text/plain": [
       "(<hsfs.core.job.Job at 0x7f0c7844fe50>, None)"
      ]
     },
     "execution_count": 16,
     "metadata": {},
     "output_type": "execute_result"
    }
   ],
   "source": [
    "feature_group.insert(ts_data, write_options={\"Wait_for_job\": False})"
   ]
  },
  {
   "cell_type": "code",
   "execution_count": null,
   "metadata": {},
   "outputs": [],
   "source": []
  }
 ],
 "metadata": {
  "kernelspec": {
   "display_name": "src-fQTkBc7N-py3.9",
   "language": "python",
   "name": "python3"
  },
  "language_info": {
   "codemirror_mode": {
    "name": "ipython",
    "version": 3
   },
   "file_extension": ".py",
   "mimetype": "text/x-python",
   "name": "python",
   "nbconvert_exporter": "python",
   "pygments_lexer": "ipython3",
   "version": "3.9.13"
  },
  "orig_nbformat": 4
 },
 "nbformat": 4,
 "nbformat_minor": 2
}

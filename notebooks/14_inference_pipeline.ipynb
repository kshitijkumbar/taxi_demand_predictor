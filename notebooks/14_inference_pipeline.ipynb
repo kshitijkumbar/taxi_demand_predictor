{
 "cells": [
  {
   "cell_type": "code",
   "execution_count": 1,
   "metadata": {},
   "outputs": [],
   "source": [
    "%load_ext autoreload\n",
    "%autoreload 2"
   ]
  },
  {
   "cell_type": "code",
   "execution_count": 6,
   "metadata": {},
   "outputs": [
    {
     "name": "stdout",
     "output_type": "stream",
     "text": [
      "current_date=Timestamp('2022-11-06 04:00:00')\n"
     ]
    }
   ],
   "source": [
    "from datetime import datetime, timedelta\n",
    "import pandas as pd \n",
    "\n",
    "\n",
    "current_date = pd.to_datetime(datetime.utcnow()).floor(\"H\") - timedelta(28*7)\n",
    "print(f\"{current_date=}\")"
   ]
  },
  {
   "cell_type": "code",
   "execution_count": 7,
   "metadata": {},
   "outputs": [
    {
     "name": "stdout",
     "output_type": "stream",
     "text": [
      "Connection closed.\n",
      "Connected. Call `.close()` to terminate connection gracefully.\n"
     ]
    },
    {
     "name": "stderr",
     "output_type": "stream",
     "text": [
      "InsecureRequestWarning: Unverified HTTPS request is being made to host 'c.app.hopsworks.ai'. Adding certificate verification is strongly advised. See: https://urllib3.readthedocs.io/en/1.26.x/advanced-usage.html#ssl-warnings\n"
     ]
    },
    {
     "name": "stdout",
     "output_type": "stream",
     "text": [
      "\n",
      "Logged in to project, explore it here https://c.app.hopsworks.ai:443/p/42132\n",
      "Connected. Call `.close()` to terminate connection gracefully.\n",
      "Fetching data from 2022-02-27 04:00:00 to 2022-03-27 04:00:00\n"
     ]
    },
    {
     "name": "stderr",
     "output_type": "stream",
     "text": [
      "VersionWarning: No training dataset version was provided to initialise batch scoring . Defaulting to version 1.\n"
     ]
    },
    {
     "name": "stdout",
     "output_type": "stream",
     "text": [
      "2023-05-20 21:27:04,446 INFO: USE `ml_prod_pipline_featurestore`\n",
      "2023-05-20 21:27:05,118 INFO: SELECT `fg0`.`pickup_hr` `pickup_hr`, `fg0`.`rides` `rides`, `fg0`.`pickup_loc_id` `pickup_loc_id`\n",
      "FROM `ml_prod_pipline_featurestore`.`ts_hourly_feat_group_1` `fg0`\n",
      "WHERE `fg0`.`pickup_hr` >= TIMESTAMP '2022-02-26 04:00:00.000' AND `fg0`.`pickup_hr` <= TIMESTAMP '2022-03-28 04:00:00.000'\n"
     ]
    },
    {
     "name": "stderr",
     "output_type": "stream",
     "text": [
      "UserWarning: pandas only supports SQLAlchemy connectable (engine/connection) or database string URI or sqlite3 DBAPI2 connection. Other DBAPI2 objects are not tested. Please consider using SQLAlchemy.\n",
      "InsecureRequestWarning: Unverified HTTPS request is being made to host 'c.app.hopsworks.ai'. Adding certificate verification is strongly advised. See: https://urllib3.readthedocs.io/en/1.26.x/advanced-usage.html#ssl-warnings\n"
     ]
    },
    {
     "name": "stdout",
     "output_type": "stream",
     "text": [
      "Index(['pickup_hr', 'rides', 'pickup_loc_id'], dtype='object')\n",
      "262\n",
      "176326 176326\n",
      "ts_data=                 pickup_hr  rides  pickup_loc_id\n",
      "62289  2022-02-27 04:00:00      0              1\n",
      "11136  2022-02-27 05:00:00      0              1\n",
      "97827  2022-02-27 06:00:00      0              1\n",
      "121408 2022-02-27 07:00:00      0              1\n",
      "20207  2022-02-27 08:00:00      0              1\n",
      "...                    ...    ...            ...\n",
      "167878 2022-03-27 00:00:00      6            265\n",
      "138125 2022-03-27 01:00:00      5            265\n",
      "43176  2022-03-27 02:00:00      4            265\n",
      "52625  2022-03-27 03:00:00      5            265\n",
      "68     2022-03-27 04:00:00      1            265\n",
      "\n",
      "[176326 rows x 3 columns]\n"
     ]
    }
   ],
   "source": [
    "from src.inference import loadFeatBatchFromStore\n",
    "\n",
    "features = loadFeatBatchFromStore(current_date)"
   ]
  },
  {
   "cell_type": "code",
   "execution_count": 8,
   "metadata": {},
   "outputs": [
    {
     "name": "stdout",
     "output_type": "stream",
     "text": [
      "Connection closed.\n",
      "Connected. Call `.close()` to terminate connection gracefully.\n"
     ]
    },
    {
     "name": "stderr",
     "output_type": "stream",
     "text": [
      "InsecureRequestWarning: Unverified HTTPS request is being made to host 'c.app.hopsworks.ai'. Adding certificate verification is strongly advised. See: https://urllib3.readthedocs.io/en/1.26.x/advanced-usage.html#ssl-warnings\n"
     ]
    },
    {
     "name": "stdout",
     "output_type": "stream",
     "text": [
      "\n",
      "Logged in to project, explore it here https://c.app.hopsworks.ai:443/p/42132\n",
      "Connected. Call `.close()` to terminate connection gracefully.\n",
      "Downloading file ... Featuresshape: (262, 674)\n",
      "after adding avg rides (262, 675)\n"
     ]
    }
   ],
   "source": [
    "from src.inference import (\n",
    "    loadModelFromRegistry,\n",
    "    getModelPredictions\n",
    ")\n",
    "\n",
    "model = loadModelFromRegistry()\n",
    "predictions = getModelPredictions(model, features)\n",
    "\n",
    "predictions['pickup_hr'] = current_date"
   ]
  },
  {
   "cell_type": "code",
   "execution_count": 9,
   "metadata": {},
   "outputs": [
    {
     "data": {
      "text/html": [
       "<div>\n",
       "<style scoped>\n",
       "    .dataframe tbody tr th:only-of-type {\n",
       "        vertical-align: middle;\n",
       "    }\n",
       "\n",
       "    .dataframe tbody tr th {\n",
       "        vertical-align: top;\n",
       "    }\n",
       "\n",
       "    .dataframe thead th {\n",
       "        text-align: right;\n",
       "    }\n",
       "</style>\n",
       "<table border=\"1\" class=\"dataframe\">\n",
       "  <thead>\n",
       "    <tr style=\"text-align: right;\">\n",
       "      <th></th>\n",
       "      <th>pickup_loc_id</th>\n",
       "      <th>predicted_demand</th>\n",
       "      <th>pickup_hr</th>\n",
       "    </tr>\n",
       "  </thead>\n",
       "  <tbody>\n",
       "    <tr>\n",
       "      <th>0</th>\n",
       "      <td>121</td>\n",
       "      <td>-0.0</td>\n",
       "      <td>2022-11-06 04:00:00</td>\n",
       "    </tr>\n",
       "    <tr>\n",
       "      <th>1</th>\n",
       "      <td>148</td>\n",
       "      <td>10.0</td>\n",
       "      <td>2022-11-06 04:00:00</td>\n",
       "    </tr>\n",
       "    <tr>\n",
       "      <th>2</th>\n",
       "      <td>79</td>\n",
       "      <td>47.0</td>\n",
       "      <td>2022-11-06 04:00:00</td>\n",
       "    </tr>\n",
       "    <tr>\n",
       "      <th>3</th>\n",
       "      <td>187</td>\n",
       "      <td>-0.0</td>\n",
       "      <td>2022-11-06 04:00:00</td>\n",
       "    </tr>\n",
       "    <tr>\n",
       "      <th>4</th>\n",
       "      <td>107</td>\n",
       "      <td>48.0</td>\n",
       "      <td>2022-11-06 04:00:00</td>\n",
       "    </tr>\n",
       "    <tr>\n",
       "      <th>...</th>\n",
       "      <td>...</td>\n",
       "      <td>...</td>\n",
       "      <td>...</td>\n",
       "    </tr>\n",
       "    <tr>\n",
       "      <th>257</th>\n",
       "      <td>163</td>\n",
       "      <td>42.0</td>\n",
       "      <td>2022-11-06 04:00:00</td>\n",
       "    </tr>\n",
       "    <tr>\n",
       "      <th>258</th>\n",
       "      <td>169</td>\n",
       "      <td>-0.0</td>\n",
       "      <td>2022-11-06 04:00:00</td>\n",
       "    </tr>\n",
       "    <tr>\n",
       "      <th>259</th>\n",
       "      <td>238</td>\n",
       "      <td>32.0</td>\n",
       "      <td>2022-11-06 04:00:00</td>\n",
       "    </tr>\n",
       "    <tr>\n",
       "      <th>260</th>\n",
       "      <td>183</td>\n",
       "      <td>-0.0</td>\n",
       "      <td>2022-11-06 04:00:00</td>\n",
       "    </tr>\n",
       "    <tr>\n",
       "      <th>261</th>\n",
       "      <td>168</td>\n",
       "      <td>0.0</td>\n",
       "      <td>2022-11-06 04:00:00</td>\n",
       "    </tr>\n",
       "  </tbody>\n",
       "</table>\n",
       "<p>262 rows × 3 columns</p>\n",
       "</div>"
      ],
      "text/plain": [
       "     pickup_loc_id  predicted_demand           pickup_hr\n",
       "0              121              -0.0 2022-11-06 04:00:00\n",
       "1              148              10.0 2022-11-06 04:00:00\n",
       "2               79              47.0 2022-11-06 04:00:00\n",
       "3              187              -0.0 2022-11-06 04:00:00\n",
       "4              107              48.0 2022-11-06 04:00:00\n",
       "..             ...               ...                 ...\n",
       "257            163              42.0 2022-11-06 04:00:00\n",
       "258            169              -0.0 2022-11-06 04:00:00\n",
       "259            238              32.0 2022-11-06 04:00:00\n",
       "260            183              -0.0 2022-11-06 04:00:00\n",
       "261            168               0.0 2022-11-06 04:00:00\n",
       "\n",
       "[262 rows x 3 columns]"
      ]
     },
     "execution_count": 9,
     "metadata": {},
     "output_type": "execute_result"
    }
   ],
   "source": [
    "predictions"
   ]
  },
  {
   "cell_type": "code",
   "execution_count": 10,
   "metadata": {},
   "outputs": [
    {
     "name": "stdout",
     "output_type": "stream",
     "text": [
      "Connection closed.\n",
      "Connected. Call `.close()` to terminate connection gracefully.\n"
     ]
    },
    {
     "name": "stderr",
     "output_type": "stream",
     "text": [
      "InsecureRequestWarning: Unverified HTTPS request is being made to host 'c.app.hopsworks.ai'. Adding certificate verification is strongly advised. See: https://urllib3.readthedocs.io/en/1.26.x/advanced-usage.html#ssl-warnings\n"
     ]
    },
    {
     "name": "stdout",
     "output_type": "stream",
     "text": [
      "\n",
      "Logged in to project, explore it here https://c.app.hopsworks.ai:443/p/42132\n",
      "Connected. Call `.close()` to terminate connection gracefully.\n"
     ]
    },
    {
     "name": "stderr",
     "output_type": "stream",
     "text": [
      "InsecureRequestWarning: Unverified HTTPS request is being made to host 'c.app.hopsworks.ai'. Adding certificate verification is strongly advised. See: https://urllib3.readthedocs.io/en/1.26.x/advanced-usage.html#ssl-warnings\n"
     ]
    },
    {
     "name": "stdout",
     "output_type": "stream",
     "text": [
      "Feature Group created successfully, explore it at \n",
      "https://c.app.hopsworks.ai:443/p/42132/fs/42052/fg/50528\n"
     ]
    },
    {
     "data": {
      "application/vnd.jupyter.widget-view+json": {
       "model_id": "b7ccfb3e1b7240df8d7a29264d0cc87a",
       "version_major": 2,
       "version_minor": 0
      },
      "text/plain": [
       "Uploading Dataframe: 0.00% |          | Rows 0/262 | Elapsed Time: 00:00 | Remaining Time: ?"
      ]
     },
     "metadata": {},
     "output_type": "display_data"
    },
    {
     "name": "stdout",
     "output_type": "stream",
     "text": [
      "Launching offline feature group backfill job...\n",
      "Backfill Job started successfully, you can follow the progress at \n",
      "https://c.app.hopsworks.ai/p/42132/jobs/named/model_predictions_feature_group_1_offline_fg_backfill/executions\n"
     ]
    },
    {
     "data": {
      "text/plain": [
       "(<hsfs.core.job.Job at 0x7f9d472b9b20>, None)"
      ]
     },
     "execution_count": 10,
     "metadata": {},
     "output_type": "execute_result"
    }
   ],
   "source": [
    "from src.feature_store_api import getFeatureStore\n",
    "import src.config as config\n",
    "\n",
    "# Connect to feature group\n",
    "\n",
    "feature_group = getFeatureStore().get_or_create_feature_group(\n",
    "    name=config.FEATURE_GROUP_MODEL_PREDICTIONS,\n",
    "    version=1,\n",
    "    description=\"Model Generated Predictions\",\n",
    "    primary_key=[\"pickup_loc_id\", \"pickup_hr\"],\n",
    "    event_time=\"pickup_hr\"\n",
    ")\n",
    "\n",
    "feature_group.insert(predictions, write_options={\"wait_for_job\": False})"
   ]
  },
  {
   "cell_type": "code",
   "execution_count": null,
   "metadata": {},
   "outputs": [],
   "source": []
  }
 ],
 "metadata": {
  "kernelspec": {
   "display_name": "src-fQTkBc7N-py3.9",
   "language": "python",
   "name": "python3"
  },
  "language_info": {
   "codemirror_mode": {
    "name": "ipython",
    "version": 3
   },
   "file_extension": ".py",
   "mimetype": "text/x-python",
   "name": "python",
   "nbconvert_exporter": "python",
   "pygments_lexer": "ipython3",
   "version": "3.9.13"
  },
  "orig_nbformat": 4
 },
 "nbformat": 4,
 "nbformat_minor": 2
}
